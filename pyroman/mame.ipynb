{
 "cells": [
  {
   "cell_type": "code",
   "execution_count": null,
   "metadata": {},
   "outputs": [],
   "source": [
    "import subprocess\n",
    "import xml.etree.ElementTree as ET\n",
    "\n",
    "MAME_CMD = \"/Users/amelamela/Downloads/mame0253-arm64/mame\""
   ]
  },
  {
   "cell_type": "code",
   "execution_count": null,
   "metadata": {},
   "outputs": [],
   "source": [
    "result = subprocess.run([MAME_CMD, \"-listxml\"], capture_output=True, text=True)\n",
    "\n",
    "try:\n",
    "    if result.returncode == 0:\n",
    "        root = ET.fromstring(result.stdout)\n",
    "    else:\n",
    "        print(result.stderr)\n",
    "        root = None\n",
    "except FileNotFoundError:\n",
    "    print(f\"Il comando '{MAME_CMD}' non è stato trovato.\")"
   ]
  },
  {
   "cell_type": "code",
   "execution_count": null,
   "metadata": {},
   "outputs": [],
   "source": [
    "# Estract mame version\n",
    "if root.tag == \"mame\":\n",
    "    print(f\"mame {root.attrib['build']}\")\n",
    "    print(f\"attrib: {root.attrib}\")\n",
    "else:\n",
    "    print(\"Not a valid XML content\")"
   ]
  },
  {
   "cell_type": "code",
   "execution_count": null,
   "metadata": {},
   "outputs": [],
   "source": [
    "for child in root:\n",
    "    if child.tag == \"machine\":\n",
    "        print(child.attrib)\n",
    "        for c in child:\n",
    "            if c.attrib:\n",
    "                t = c.attrib\n",
    "            else:\n",
    "                t = c.text            \n",
    "            print(f\"   {c.tag} : {t}\")"
   ]
  },
  {
   "cell_type": "code",
   "execution_count": null,
   "metadata": {},
   "outputs": [],
   "source": []
  }
 ],
 "metadata": {
  "kernelspec": {
   "display_name": "pyroman-FqrWNSnb-py3.11",
   "language": "python",
   "name": "python3"
  },
  "language_info": {
   "codemirror_mode": {
    "name": "ipython",
    "version": 3
   },
   "file_extension": ".py",
   "mimetype": "text/x-python",
   "name": "python",
   "nbconvert_exporter": "python",
   "pygments_lexer": "ipython3",
   "version": "3.11.5"
  },
  "orig_nbformat": 4
 },
 "nbformat": 4,
 "nbformat_minor": 2
}
